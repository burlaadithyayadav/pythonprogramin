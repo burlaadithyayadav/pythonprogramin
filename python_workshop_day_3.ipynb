{
  "nbformat": 4,
  "nbformat_minor": 0,
  "metadata": {
    "colab": {
      "provenance": []
    },
    "kernelspec": {
      "name": "python3",
      "display_name": "Python 3"
    },
    "language_info": {
      "name": "python"
    }
  },
  "cells": [
    {
      "cell_type": "code",
      "execution_count": null,
      "metadata": {
        "id": "QYKOZ_35TJdw"
      },
      "outputs": [],
      "source": []
    },
    {
      "cell_type": "markdown",
      "source": [
        "simple calculator\n"
      ],
      "metadata": {
        "id": "OTzeSNHJTQ50"
      }
    },
    {
      "cell_type": "code",
      "source": [
        "def add (x,y):\n",
        "  return x+y\n",
        "def substract(x,y):\n",
        "  return x-y\n",
        "def multiply (x,y):\n",
        "  return x*y\n",
        "def divide (x,y):\n",
        " if y!=0:\n",
        "  return x/y\n",
        " else:\n",
        "    return \"error! division by zero,\"\n",
        "\n",
        "def calculator():\n",
        "      print(\"simple calculator\")\n",
        "      print(\"choose operator:\")\n",
        "      print(\"1.add\")\n",
        "      print(\"2.substraction\")\n",
        "      print(\"3.multiplication\")\n",
        "      print(\"4.division\")\n",
        "\n",
        "      while True:\n",
        "            choice = input(\"enter choice (1/2/3/4):\")\n",
        "\n",
        "            if choice in ['1','2','3','4']:\n",
        "              num1 = float(input(\"enter first number:\"))\n",
        "              num2 = float(input(\"enter second  number:\"))\n",
        "\n",
        "              if choice == '1':\n",
        "                print(f\"the result is :{add(num1,num2)}\")\n",
        "              elif choice == '2':\n",
        "                print(f\"the result is :{substract(num1,num2)}\")\n",
        "              elif choice == '3':\n",
        "                print(f\"the result is :{multiply(num1,num2)}\")\n",
        "              elif choice == '4':\n",
        "                print(f\"the result is :{divide(num1,num2)}\")\n",
        "\n",
        "\n",
        "              next_calculation = input(\"Do you want to perform another calculation?(yes/no): \")\n",
        "              if next_calculation.lower()!='yes':\n",
        "                    break\n",
        "\n",
        "            else:\n",
        "                      print(\"invalid input\")\n",
        "         # run the calculator\n",
        "calculator()\n",
        "\n",
        "\n",
        "\n"
      ],
      "metadata": {
        "colab": {
          "base_uri": "https://localhost:8080/"
        },
        "id": "s62US5VcTW47",
        "outputId": "a8ab2216-b87c-4e0d-a43c-ba3e36c3e5a4"
      },
      "execution_count": null,
      "outputs": [
        {
          "output_type": "stream",
          "name": "stdout",
          "text": [
            "simple calculator\n",
            "choose operator:\n",
            "1.add\n",
            "2.substraction\n",
            "3.multiplication\n",
            "4.division\n",
            "enter choice (1/2/3/4):3\n",
            "enter first number:25\n",
            "enter second  number:5\n",
            "the result is :125.0\n",
            "Do you want to perform another calculation?(yes/no): yes\n",
            "enter choice (1/2/3/4):4\n",
            "enter first number:25\n",
            "enter second  number:5\n",
            "the result is :5.0\n"
          ]
        }
      ]
    },
    {
      "cell_type": "code",
      "source": [
        "\\"
      ],
      "metadata": {
        "id": "3NI2AMYDX3Nw"
      },
      "execution_count": 13,
      "outputs": []
    }
  ]
}